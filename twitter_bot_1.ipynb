{
 "cells": [
  {
   "cell_type": "raw",
   "metadata": {},
   "source": [
    "We will create a twitter bot which will reply \"Thank you so much\" to all the tweets tagging us with #happybirthday. We will use tweepy\n",
    "Tweepy is open-sourced, hosted on GitHub and enables Python to communicate with Twitter platform and use its API. \n",
    "python 2.7, 3.4, 3.5 and 3.6 are supported\n",
    "pip install tweepy\n",
    "if you are using python 3.7 use this:\n",
    "pip install -U git+https://github.com/tweepy/tweepy.git@2efe385fc69385b57733f747ee62e6be12a1338b\n",
    "\n",
    "Once installed \n",
    "import tweepy"
   ]
  },
  {
   "cell_type": "raw",
   "metadata": {},
   "source": [
    "What is an OAuth?\n",
    "It's an open standard for authorization and anyone can implement it. OAuth works over HTTPS and authorizes devices, APIs, servers, and applications with access tokens rather than credentials.\n",
    "Any client needs a access token to ask for the data/information from the resource server. With the help of access token a client can do what they want to. Resource owner is us. The resource and authorization server is google for eg. and the client is the application wanting to access your information. So with the help of access token, we can access the information like what are the recent tweets, who all are following us, etc.\n",
    "\n",
    "Tweepy supports oauth authentication.Authentication is supported by the tweepy.oauthHandler class"
   ]
  },
  {
   "cell_type": "raw",
   "metadata": {},
   "source": [
    "Then we need to make a twitter developers account. Where you will get a consumer_key and consumer_secret and you can generate the access_key and access_secret.\n",
    "\n",
    "To begin the process we need to register our client application with Twitter. Create a new application and once you are done you should have your consumer token and secret. The access token is the “key” for opening the Twitter API treasure box. \n",
    "Do not share these keys with anyone as others can ask for requests on the basis of your token and you don't know anything. The keys that I am sharing are incorrect and I have revoked them."
   ]
  },
  {
   "cell_type": "code",
   "execution_count": 81,
   "metadata": {},
   "outputs": [
    {
     "name": "stdout",
     "output_type": "stream",
     "text": [
      "This is my twitter bot\n"
     ]
    }
   ],
   "source": [
    "import tweepy\n",
    "import time #to use time.sleep() while replying to tweets\n",
    "print(\"This is my twitter bot\")"
   ]
  },
  {
   "cell_type": "code",
   "execution_count": 82,
   "metadata": {},
   "outputs": [],
   "source": [
    "CONSUMER_KEY = 'xxx'\n",
    "CONSUMER_SECRET = 'yyy'\n",
    "ACCESS_KEY = 'zzz'\n",
    "ACCESS_SECRET = 'abc'\n",
    "\n",
    "auth = tweepy.OAuthHandler(CONSUMER_KEY,CONSUMER_SECRET)\n",
    "auth.set_access_token(ACCESS_KEY,ACCESS_SECRET)\n",
    "#construct the API Instance\n",
    "api = tweepy.API(auth)"
   ]
  },
  {
   "cell_type": "code",
   "execution_count": 83,
   "metadata": {},
   "outputs": [],
   "source": [
    "#api.mentions_timeline will return the recent mentions in the timeline\n",
    "mentions = api.mentions_timeline()\n",
    "#print(mentions)"
   ]
  },
  {
   "cell_type": "code",
   "execution_count": 84,
   "metadata": {},
   "outputs": [
    {
     "data": {
      "text/plain": [
       "tweepy.models.ResultSet"
      ]
     },
     "execution_count": 84,
     "metadata": {},
     "output_type": "execute_result"
    }
   ],
   "source": [
    "type(mentions)"
   ]
  },
  {
   "cell_type": "code",
   "execution_count": 85,
   "metadata": {},
   "outputs": [],
   "source": [
    "#tweepy.ResultSet is a subclass of list"
   ]
  },
  {
   "cell_type": "code",
   "execution_count": 86,
   "metadata": {},
   "outputs": [
    {
     "data": {
      "text/plain": [
       "tweepy.models.Status"
      ]
     },
     "execution_count": 86,
     "metadata": {},
     "output_type": "execute_result"
    }
   ],
   "source": [
    "type(mentions[0])\n",
    "#since this first mention is an object, we can convert this into the dict. to get the keys it has"
   ]
  },
  {
   "cell_type": "code",
   "execution_count": 87,
   "metadata": {},
   "outputs": [],
   "source": [
    "#mentions[0].__dict__"
   ]
  },
  {
   "cell_type": "code",
   "execution_count": 88,
   "metadata": {},
   "outputs": [],
   "source": [
    "#mentions[0].__dict__.keys()"
   ]
  },
  {
   "cell_type": "code",
   "execution_count": 89,
   "metadata": {},
   "outputs": [],
   "source": [
    "#for each of the mentions we need to find those with happy birhtday\n",
    "# for mention in mentions:\n",
    "#     print(str(mention.id)+\"--\"+ mention.text)\n",
    "#     if '#happybirthday' in mention.text.lower():\n",
    "#         print(\"found #happybirthday\")\n",
    "#         print(\"responding back\")"
   ]
  },
  {
   "cell_type": "raw",
   "metadata": {},
   "source": [
    "110-tweet6 #helloworld\n",
    "109-tweet5\n",
    "107-tweet4\n",
    "------------------------------------\n",
    "100-tweet3\n",
    "95-tweet2\n",
    "91-tweet1 #helloworld\n",
    "\n",
    "Now it might be a case, we have responded back till tweet id 100 already. But when we again run the script, it will respond back everytime! i.e saying thankyou again and again to the same tweet when it's running. So we should store the last tweet_id that we have checked. And then the next time the script is running, it should resume from the id where is left off. We store last_seen_id in a file and everytime we encounter a new tweet we update the last_seen_id. And when we want to retrieve the id, we can read the file"
   ]
  },
  {
   "cell_type": "code",
   "execution_count": 90,
   "metadata": {},
   "outputs": [],
   "source": [
    "file_name = 'last_seen_id.txt'\n",
    "#Fill in the first mention.id you want to respond the tweet after from in the txt file"
   ]
  },
  {
   "cell_type": "code",
   "execution_count": 91,
   "metadata": {},
   "outputs": [],
   "source": [
    "def retrieve_last_seen_id(file_name):\n",
    "    f_read = open(file_name,'r')\n",
    "    last_seen_id = int(f_read.read().strip())\n",
    "    f_read.close()\n",
    "    return last_seen_id"
   ]
  },
  {
   "cell_type": "code",
   "execution_count": 92,
   "metadata": {},
   "outputs": [],
   "source": [
    "def store_last_seen_id(file_name, last_seen_id):\n",
    "    f_write = open(file_name,'w')\n",
    "    f_write.write(str(last_seen_id))\n",
    "    f_write.close()\n",
    "    return"
   ]
  },
  {
   "cell_type": "code",
   "execution_count": 93,
   "metadata": {},
   "outputs": [],
   "source": [
    "def reply_to_tweets():\n",
    "    print(\"retrieving and replying to tweets\")\n",
    "    last_seen_id = retrieve_last_seen_id(file_name)\n",
    "    mentions = api.mentions_timeline(last_seen_id,tweet_mode = 'extended')\n",
    "    #this will start from tweets after the given id\n",
    "    for mention in reversed(mentions):\n",
    "        print(str(mention.id)+\" \"+ mention.full_text)\n",
    "        last_seen_id = mention.id\n",
    "        store_last_seen_id(file_name,last_seen_id)\n",
    "        if '#happybirthday' in mention.full_text.lower():\n",
    "            print(\"found #happybirthday\")\n",
    "            print(\"responding back\")\n",
    "            api.update_status('@' + mention.user.screen_name + '#happyBirthday Thank you! :) ',mention.id)\n",
    "            "
   ]
  },
  {
   "cell_type": "code",
   "execution_count": 94,
   "metadata": {},
   "outputs": [
    {
     "name": "stdout",
     "output_type": "stream",
     "text": [
      "retrieving and replying to tweets\n",
      "1096752767392112646 @Nikita_1225 TESTING FINAL\n",
      "1096752842021298176 @Nikita_1225 TESTING FINAL #happyBIRTHDAY 😎😎\n",
      "found #happybirthday\n",
      "responding back\n",
      "retrieving and replying to tweets\n",
      "retrieving and replying to tweets\n",
      "retrieving and replying to tweets\n",
      "retrieving and replying to tweets\n",
      "retrieving and replying to tweets\n",
      "retrieving and replying to tweets\n",
      "retrieving and replying to tweets\n",
      "retrieving and replying to tweets\n",
      "retrieving and replying to tweets\n",
      "retrieving and replying to tweets\n"
     ]
    },
    {
     "ename": "KeyboardInterrupt",
     "evalue": "",
     "output_type": "error",
     "traceback": [
      "\u001b[1;31m---------------------------------------------------------------------------\u001b[0m",
      "\u001b[1;31mKeyboardInterrupt\u001b[0m                         Traceback (most recent call last)",
      "\u001b[1;32m<ipython-input-94-24e5d1ee125c>\u001b[0m in \u001b[0;36m<module>\u001b[1;34m\u001b[0m\n\u001b[0;32m      1\u001b[0m \u001b[1;32mwhile\u001b[0m \u001b[1;32mTrue\u001b[0m\u001b[1;33m:\u001b[0m\u001b[1;33m\u001b[0m\u001b[1;33m\u001b[0m\u001b[0m\n\u001b[0;32m      2\u001b[0m     \u001b[0mreply_to_tweets\u001b[0m\u001b[1;33m(\u001b[0m\u001b[1;33m)\u001b[0m\u001b[1;33m\u001b[0m\u001b[1;33m\u001b[0m\u001b[0m\n\u001b[1;32m----> 3\u001b[1;33m     \u001b[0mtime\u001b[0m\u001b[1;33m.\u001b[0m\u001b[0msleep\u001b[0m\u001b[1;33m(\u001b[0m\u001b[1;36m2\u001b[0m\u001b[1;33m)\u001b[0m\u001b[1;33m\u001b[0m\u001b[1;33m\u001b[0m\u001b[0m\n\u001b[0m",
      "\u001b[1;31mKeyboardInterrupt\u001b[0m: "
     ]
    }
   ],
   "source": [
    "while True:\n",
    "    reply_to_tweets()\n",
    "    time.sleep(2)"
   ]
  },
  {
   "cell_type": "code",
   "execution_count": null,
   "metadata": {},
   "outputs": [],
   "source": []
  }
 ],
 "metadata": {
  "kernelspec": {
   "display_name": "Python 3",
   "language": "python",
   "name": "python3"
  },
  "language_info": {
   "codemirror_mode": {
    "name": "ipython",
    "version": 3
   },
   "file_extension": ".py",
   "mimetype": "text/x-python",
   "name": "python",
   "nbconvert_exporter": "python",
   "pygments_lexer": "ipython3",
   "version": "3.7.2"
  }
 },
 "nbformat": 4,
 "nbformat_minor": 2
}
